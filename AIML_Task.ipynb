{
  "nbformat": 4,
  "nbformat_minor": 0,
  "metadata": {
    "colab": {
      "provenance": [],
      "authorship_tag": "ABX9TyNy60BbJXZYh1GGqb+1erJj",
      "include_colab_link": true
    },
    "kernelspec": {
      "name": "python3",
      "display_name": "Python 3"
    },
    "language_info": {
      "name": "python"
    }
  },
  "cells": [
    {
      "cell_type": "markdown",
      "metadata": {
        "id": "view-in-github",
        "colab_type": "text"
      },
      "source": [
        "<a href=\"https://colab.research.google.com/github/ithi-v3/AIML_task/blob/main/AIML_Task.ipynb\" target=\"_parent\"><img src=\"https://colab.research.google.com/assets/colab-badge.svg\" alt=\"Open In Colab\"/></a>"
      ]
    },
    {
      "cell_type": "code",
      "execution_count": 2,
      "metadata": {
        "colab": {
          "base_uri": "https://localhost:8080/"
        },
        "id": "vclu1Y0RwmTG",
        "outputId": "cea96f33-94fc-4f90-a864-b369277333f8"
      },
      "outputs": [
        {
          "output_type": "stream",
          "name": "stdout",
          "text": [
            "Mounted at /content/drive\n",
            "   label  pixel1  pixel2  pixel3  pixel4  pixel5  pixel6  pixel7  pixel8  \\\n",
            "0      2       0       0       0       0       0       0       0       0   \n",
            "1      9       0       0       0       0       0       0       0       0   \n",
            "2      6       0       0       0       0       0       0       0       5   \n",
            "3      0       0       0       0       1       2       0       0       0   \n",
            "4      3       0       0       0       0       0       0       0       0   \n",
            "\n",
            "   pixel9  ...  pixel775  pixel776  pixel777  pixel778  pixel779  pixel780  \\\n",
            "0       0  ...         0         0         0         0         0         0   \n",
            "1       0  ...         0         0         0         0         0         0   \n",
            "2       0  ...         0         0         0        30        43         0   \n",
            "3       0  ...         3         0         0         0         0         1   \n",
            "4       0  ...         0         0         0         0         0         0   \n",
            "\n",
            "   pixel781  pixel782  pixel783  pixel784  \n",
            "0         0         0         0         0  \n",
            "1         0         0         0         0  \n",
            "2         0         0         0         0  \n",
            "3         0         0         0         0  \n",
            "4         0         0         0         0  \n",
            "\n",
            "[5 rows x 785 columns]\n"
          ]
        }
      ],
      "source": [
        "from google.colab import drive\n",
        "import pandas as pd\n",
        "drive.mount('/content/drive')\n",
        "file_path = \"/content/drive/My Drive/data.csv\"\n",
        "df = pd.read_csv(file_path)\n",
        "print(df.head())"
      ]
    },
    {
      "cell_type": "code",
      "source": [
        "print(df.shape)"
      ],
      "metadata": {
        "colab": {
          "base_uri": "https://localhost:8080/"
        },
        "id": "snYvibslywIq",
        "outputId": "2d2160d5-598f-412f-be88-90425c2962d7"
      },
      "execution_count": 3,
      "outputs": [
        {
          "output_type": "stream",
          "name": "stdout",
          "text": [
            "(60000, 785)\n"
          ]
        }
      ]
    },
    {
      "cell_type": "code",
      "source": [],
      "metadata": {
        "id": "wH8GixBBy2br"
      },
      "execution_count": null,
      "outputs": []
    },
    {
      "cell_type": "markdown",
      "source": [],
      "metadata": {
        "id": "R2PIaXKQy4tv"
      }
    },
    {
      "cell_type": "markdown",
      "source": [
        "printed the dataset shape and values\n"
      ],
      "metadata": {
        "id": "NYZfPBTEzFS_"
      }
    },
    {
      "cell_type": "code",
      "source": [
        "print(df.columns)\n",
        "print(df.iloc[:, 1:].describe())"
      ],
      "metadata": {
        "colab": {
          "base_uri": "https://localhost:8080/"
        },
        "id": "HUJgSZ3qzQC0",
        "outputId": "8356c1ee-5699-4d8c-80b1-8ba1ca18cf92"
      },
      "execution_count": 4,
      "outputs": [
        {
          "output_type": "stream",
          "name": "stdout",
          "text": [
            "Index(['label', 'pixel1', 'pixel2', 'pixel3', 'pixel4', 'pixel5', 'pixel6',\n",
            "       'pixel7', 'pixel8', 'pixel9',\n",
            "       ...\n",
            "       'pixel775', 'pixel776', 'pixel777', 'pixel778', 'pixel779', 'pixel780',\n",
            "       'pixel781', 'pixel782', 'pixel783', 'pixel784'],\n",
            "      dtype='object', length=785)\n",
            "             pixel1        pixel2        pixel3        pixel4        pixel5  \\\n",
            "count  60000.000000  60000.000000  60000.000000  60000.000000  60000.000000   \n",
            "mean       0.000900      0.006150      0.035333      0.101933      0.247967   \n",
            "std        0.094689      0.271011      1.222324      2.452871      4.306912   \n",
            "min        0.000000      0.000000      0.000000      0.000000      0.000000   \n",
            "25%        0.000000      0.000000      0.000000      0.000000      0.000000   \n",
            "50%        0.000000      0.000000      0.000000      0.000000      0.000000   \n",
            "75%        0.000000      0.000000      0.000000      0.000000      0.000000   \n",
            "max       16.000000     36.000000    226.000000    164.000000    227.000000   \n",
            "\n",
            "             pixel6        pixel7        pixel8        pixel9       pixel10  \\\n",
            "count  60000.000000  60000.000000  60000.000000  60000.000000  60000.000000   \n",
            "mean       0.411467      0.805767      2.198283      5.682000     14.488767   \n",
            "std        5.836188      8.215169     14.093378     23.819481     38.334549   \n",
            "min        0.000000      0.000000      0.000000      0.000000      0.000000   \n",
            "25%        0.000000      0.000000      0.000000      0.000000      0.000000   \n",
            "50%        0.000000      0.000000      0.000000      0.000000      0.000000   \n",
            "75%        0.000000      0.000000      0.000000      0.000000      0.000000   \n",
            "max      230.000000    224.000000    255.000000    254.000000    255.000000   \n",
            "\n",
            "       ...      pixel775      pixel776      pixel777      pixel778  \\\n",
            "count  ...  60000.000000  60000.000000  60000.000000  60000.000000   \n",
            "mean   ...     34.625400     23.300683     16.588267     17.869433   \n",
            "std    ...     57.545242     48.854427     41.979611     43.966032   \n",
            "min    ...      0.000000      0.000000      0.000000      0.000000   \n",
            "25%    ...      0.000000      0.000000      0.000000      0.000000   \n",
            "50%    ...      0.000000      0.000000      0.000000      0.000000   \n",
            "75%    ...     58.000000      9.000000      0.000000      0.000000   \n",
            "max    ...    255.000000    255.000000    255.000000    255.000000   \n",
            "\n",
            "           pixel779      pixel780      pixel781      pixel782      pixel783  \\\n",
            "count  60000.000000  60000.000000  60000.000000  60000.000000  60000.000000   \n",
            "mean      22.814817     17.911483      8.520633      2.753300      0.855517   \n",
            "std       51.830477     45.149388     29.614859     17.397652      9.356960   \n",
            "min        0.000000      0.000000      0.000000      0.000000      0.000000   \n",
            "25%        0.000000      0.000000      0.000000      0.000000      0.000000   \n",
            "50%        0.000000      0.000000      0.000000      0.000000      0.000000   \n",
            "75%        0.000000      0.000000      0.000000      0.000000      0.000000   \n",
            "max      255.000000    255.000000    255.000000    255.000000    255.000000   \n",
            "\n",
            "          pixel784  \n",
            "count  60000.00000  \n",
            "mean       0.07025  \n",
            "std        2.12587  \n",
            "min        0.00000  \n",
            "25%        0.00000  \n",
            "50%        0.00000  \n",
            "75%        0.00000  \n",
            "max      170.00000  \n",
            "\n",
            "[8 rows x 784 columns]\n"
          ]
        }
      ]
    },
    {
      "cell_type": "markdown",
      "source": [
        "checking dataset format"
      ],
      "metadata": {
        "id": "5yVV9i_-zaX9"
      }
    },
    {
      "cell_type": "code",
      "source": [
        "import matplotlib.pyplot as plt\n",
        "import numpy as np\n",
        "\n",
        "def plot_image(index):\n",
        "    label = df.iloc[index, 0]\n",
        "    pixels = df.iloc[index, 1:].values.reshape(28, 28)\n",
        "\n",
        "    plt.imshow(pixels, cmap=\"gray\")\n",
        "    plt.title(f\"Label: {label}\")\n",
        "    plt.axis(\"off\")\n",
        "    plt.show()\n",
        "\n",
        "for i in range(5):\n",
        "    plot_image(i)\n"
      ],
      "metadata": {
        "colab": {
          "base_uri": "https://localhost:8080/",
          "height": 1000
        },
        "id": "qCIRjWllzjmF",
        "outputId": "10235d7e-c8b3-45f6-916e-b379893907d9"
      },
      "execution_count": 5,
      "outputs": [
        {
          "output_type": "display_data",
          "data": {
            "text/plain": [
              "<Figure size 640x480 with 1 Axes>"
            ],
            "image/png": "[encoded data removed]"
          },
          "metadata": {}
        },
        {
          "output_type": "display_data",
          "data": {
            "text/plain": [
              "<Figure size 640x480 with 1 Axes>"
            ],
            "image/png": "[encoded data removed]"
          },
          "metadata": {}
        },
        {
          "output_type": "display_data",
          "data": {
            "text/plain": [
              "<Figure size 640x480 with 1 Axes>"
            ],
            "image/png": "[encoded data removed]"
          },
          "metadata": {}
        },
        {
          "output_type": "display_data",
          "data": {
            "text/plain": [
              "<Figure size 640x480 with 1 Axes>"
            ],
            "image/png": "[encoded data removed]"
          },
          "metadata": {}
        },
        {
          "output_type": "display_data",
          "data": {
            "text/plain": [
              "<Figure size 640x480 with 1 Axes>"
            ],
            "image/png": "[encoded data removed]"
          },
          "metadata": {}
        }
      ]
    },
    {
      "cell_type": "markdown",
      "source": [
        "visualised using matplotlib"
      ],
      "metadata": {
        "id": "8MIUlLpdz98m"
      }
    }
  ]
}